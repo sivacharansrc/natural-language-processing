{
 "cells": [
  {
   "cell_type": "markdown",
   "metadata": {},
   "source": [
    "# Natural language processing tutorial\n",
    "Reference: https://www.udemy.com/course/introduction-to-natural-language-processing/learn/lecture/17935522#overview"
   ]
  },
  {
   "cell_type": "markdown",
   "metadata": {},
   "source": [
    "# Topics covered\n",
    "- Introduction to text data and natural language processing\n",
    "- Key techniques related to natural language processing\n",
    "- Implement natural language processing on real datasets"
   ]
  },
  {
   "cell_type": "markdown",
   "metadata": {},
   "source": [
    "# Dataset Types\n",
    "- #### Structured Dataset\n",
    "    - Fixed Dimensions (rows and columns)\n",
    "    - Information is well organized\n",
    "    - Dataset is available in a tabular format (and are stored in relational databases, or in json etc.)\n",
    "- #### Unstructured Dataset\n",
    "    - No fixed dimension\n",
    "    - Can take up any form such as image, video, audio, text\n",
    "    - Text unstructured data examples:\n",
    "        - Social media: tweets, posts, and comments\n",
    "        - Conversations: messages, emails, chats\n",
    "        - Articles: news, blogs, transcripts\n",
    "    - Text data is data that is meaningful, in any language that follows the grammar and defined structures\n",
    "    \n",
    "Note that data in unstructured dataset cannot be well defined in a tabular format"
   ]
  },
  {
   "cell_type": "markdown",
   "metadata": {},
   "source": [
    "# Natural language processing\n",
    "Natural language processing is the branch of datascience that helps in deriving useful information and insights from text data\n",
    "\n",
    "### Applications of NLP:\n",
    "- Analyze customer feedback, and customer sentiments on product/service to improvise the product / service\n",
    "- Automatic categorization of customer queries (map top queries to specific departments, and route the queries to departments using the defined business logics on the top phrases/queries)\n",
    "- Identify patients at risk of cancer (analyze historical case notes on medicines prescribed, symptoms etc. to idenfity the risk level of patients on risk of cancer)"
   ]
  },
  {
   "cell_type": "markdown",
   "metadata": {},
   "source": [
    "# Regular Expressions\n",
    "- ### What are regular expressions? \n",
    "    - Patterns of special characters having an associated textual meaning (ex: \"/d\" indicates digits or numbers)\n",
    "    - Wild card expressions for matching strings, finding strings, and parsing strings\n",
    "    - Used for writing rule based information mining\n",
    "- ### Why we need regular expressions?\n",
    "    - Used for segmentation for words from sentences, or segmenation of sentences from paragraphs. This process is called tokenization\n",
    "    - Used for text cleaning to remove text noise or unwanted information\n",
    "    - Information retrieval from texts (chatbots, news datasets etc.)\n",
    "- ### Types of regular expressions:\n",
    "    - There are many regular expression patterns to match specific structures such as characters, or integers, or decimals etc.\n",
    "- ### Regular expression functions available in python re package:\n",
    "    - match: finds the first occurence of a pattern in a string\n",
    "    - search: locates the pattern in the string\n",
    "    - findall: find all occurences of pattern in the string\n",
    "    - sub: search and replace a pattern in the string\n",
    "    - split: split the given text by a regular expression\n",
    "\n",
    "![Types of regular expression](.\\\\other-data\\\\types_of_regular_expressions.png \"Types of regular expressions\")\n",
    "    "
   ]
  },
  {
   "cell_type": "code",
   "execution_count": 1,
   "metadata": {},
   "outputs": [
    {
     "name": "stdout",
     "output_type": "stream",
     "text": [
      "Match: Tiger is present as the first occurence in the sentence \n",
      "\n",
      "Search: Tiger is available in the sentence in the position: (32, 37) \n",
      "\n",
      "Total occurence of the pattern: national is 2 \n",
      "\n",
      "Start index: 4 | Ending index: 12\n",
      "national \n",
      "\n",
      "Start index: 42 | Ending index: 50\n",
      "national \n",
      "\n",
      "All dates available in the sentence: ['03/21/1985', '11/12/2000'] \n",
      "\n",
      "Split words from sentence using the delimiter: ['this', 'is', 'a', 'sample', 'sentence'] \n",
      "\n",
      "Modified string after sub: hockey is a popular sport in india. Sachin is a famous hockeyer \n",
      "\n"
     ]
    }
   ],
   "source": [
    "# Example of using regular expressions in python:\n",
    "import re\n",
    "import numpy as np\n",
    "\n",
    "# match - returns true only of the first word matches with the pattern\n",
    "string = \"Tiger is the national animal of India\"\n",
    "pattern = 'Tiger'\n",
    "result = re.match(pattern, string).group(0) # Returns tiger if tiger is the first occurence in the sentence, else None\n",
    "print(f'Match: {result} is present as the first occurence in the sentence', '\\n')\n",
    "\n",
    "# search - returns true if the pattern is present anywhere in the sentence\n",
    "string = \"The national animal of India is Tiger\"\n",
    "pattern = 'Tiger'\n",
    "result = re.search(pattern, string)\n",
    "print(f'Search: {result.group(0)} is available in the sentence in the position: {result.span()}', '\\n')\n",
    "\n",
    "# findall - returns all occurences of pattern in the sentence\n",
    "string = \"The national animal of India is Tiger and national sport is hockey\"\n",
    "pattern = 'national'\n",
    "result = re.findall(pattern, string)\n",
    "print(f'Total occurence of the pattern: {pattern} is {np.count_nonzero(result)}', '\\n')\n",
    "\n",
    "# We can also get the index of the pattern using re.finditer\n",
    "result = re.finditer(pattern, string)\n",
    "for var in result:\n",
    "    print(f'Start index: {var.start()} | Ending index: {var.end()}')\n",
    "    print(string[var.start():var.end()], '\\n')\n",
    "\n",
    "# Another example of findall to find all the dates in a given text\n",
    "string = \"Ram, ID # 2554-896 and birthday is on 03/21/1985 whereas the ID # for Kumar is 5547-65-774 and his birthday is on 11/12/2000\"\n",
    "pattern = '\\d{2}/\\d{2}/\\d{4}' # simple regular expression the represents 2 digits followed by front slash followe by 2 digits, followe by front slash and 4 digits\n",
    "result = re.findall(pattern, string)\n",
    "print(f'All dates available in the sentence: {result}', '\\n')\n",
    "\n",
    "# split - splits sentences using the provided delimiter\n",
    "string = 'this;is a sample,sentence'\n",
    "pattern = '[;,\\s]' # Anything expressed within square braces are like a OR condition\n",
    "result = re.split(pattern, string)\n",
    "print(f'Split words from sentence using the delimiter: {result}', '\\n')\n",
    "\n",
    "# sub - search and replace a pattern in a given string\n",
    "string = 'cricket is a popular sport in india. Sachin is a famous cricketer'\n",
    "pattern = 'cricket'\n",
    "replacement = 'hockey' # additional constraints should be added to match the exact word. Here, it will replace cricketer to hockeyer\n",
    "result = re.sub(pattern, replacement, string)\n",
    "print(f'Modified string after sub: {result}', '\\n')"
   ]
  },
  {
   "cell_type": "code",
   "execution_count": 2,
   "metadata": {},
   "outputs": [
    {
     "name": "stdout",
     "output_type": "stream",
     "text": [
      "[('03', '08'), ('11', '12')]\n"
     ]
    }
   ],
   "source": [
    "string = \"Ram, ID # 2554-896 and birthday is on 03/08/1985 whereas the ID # for Kumar is 5547-65-774 and his birthday is on 11/12/2000\"\n",
    "pattern = '(0[1-9]|1[0-2])[\\.-/]([0-2][0-9]|3[0-1])[\\.-/][0-9]{4}'\n",
    "# pattern = '0[1-9][\\.-/]|1[0-2][\\.-/][0-2][0-9][\\.-/]|3[0-1][\\.-/]'\n",
    "# pattern = '0[1-9][\\.-/]|1[0-2][\\.-/]'\n",
    "# pattern = '[0-2][0-9][\\.-/]|3[0-1][\\.-/]'\n",
    "result = re.findall(pattern, string)\n",
    "print(result)\n",
    "\n",
    "# https://stackoverflow.com/questions/4709652/python-regex-to-match-dates\n",
    "# date=\"13-11-2017\"\n",
    "#x=re.search(\"^([1-9] |1[0-9]| 2[0-9]|3[0-1])(.|-)([1-9] |1[0-2])(.|-|)20[0-9][0-9]$\",date)\n",
    "#x.group()"
   ]
  },
  {
   "cell_type": "code",
   "execution_count": 29,
   "metadata": {},
   "outputs": [
    {
     "name": "stdout",
     "output_type": "stream",
     "text": [
      "training_queries@analyticsvidhya.com\n"
     ]
    }
   ],
   "source": [
    "string = \"Contact us on training_queries@analyticsvidhya.com\"\n",
    "pattern = '([\\w.]+)@([\\w.]+)'\n",
    "match = re.search(pattern, string)\n",
    "print(match.group(0))"
   ]
  }
 ],
 "metadata": {
  "kernelspec": {
   "display_name": "Python 3",
   "language": "python",
   "name": "python3"
  },
  "language_info": {
   "codemirror_mode": {
    "name": "ipython",
    "version": 3
   },
   "file_extension": ".py",
   "mimetype": "text/x-python",
   "name": "python",
   "nbconvert_exporter": "python",
   "pygments_lexer": "ipython3",
   "version": "3.7.7"
  }
 },
 "nbformat": 4,
 "nbformat_minor": 4
}
